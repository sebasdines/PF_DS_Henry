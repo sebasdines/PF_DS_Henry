{
 "cells": [
  {
   "cell_type": "markdown",
   "metadata": {},
   "source": [
    "## Trabajo Final Grupal\n",
    "\n",
    "### Objetivo: Encontrar los rubros que más crecen y decrecen a través de un análisis sentiment de los comentarios. "
   ]
  },
  {
   "cell_type": "code",
   "execution_count": 5,
   "metadata": {},
   "outputs": [],
   "source": [
    "# Importar librería:\n",
    "import pandas as pd\n",
    "import numpy as np\n",
    "import json\n",
    "import ast\n",
    "#from textblob import TextBlob\n",
    "from pandas import json_normalize\n",
    "import seaborn as sns\n",
    "import matplotlib.pyplot as plt\n",
    "#import plotly.express as px\n",
    "from wordcloud import WordCloud\n",
    "#import plotly.graph_objs as go\n",
    "#from sentiment_analysis_spanish import sentiment_analysis\n",
    "from sklearn.metrics.pairwise import cosine_similarity\n",
    "from sklearn.feature_extraction.text import TfidfVectorizer\n",
    "from sklearn.metrics.pairwise import linear_kernel"
   ]
  },
  {
   "cell_type": "markdown",
   "metadata": {},
   "source": [
    "### Análisis Exploratorio: \n",
    "\n",
    "- Los comentarios de Yelp están en la tabla 'reviews'. Las tablas de Yelp están conectadas por el 'business_id'\n",
    "- Los comentarios de Gmaps están en gmaps del estado de Florida.\n"
   ]
  },
  {
   "cell_type": "code",
   "execution_count": 2,
   "metadata": {},
   "outputs": [
    {
     "data": {
      "text/html": [
       "<div>\n",
       "<style scoped>\n",
       "    .dataframe tbody tr th:only-of-type {\n",
       "        vertical-align: middle;\n",
       "    }\n",
       "\n",
       "    .dataframe tbody tr th {\n",
       "        vertical-align: top;\n",
       "    }\n",
       "\n",
       "    .dataframe thead th {\n",
       "        text-align: right;\n",
       "    }\n",
       "</style>\n",
       "<table border=\"1\" class=\"dataframe\">\n",
       "  <thead>\n",
       "    <tr style=\"text-align: right;\">\n",
       "      <th></th>\n",
       "      <th>user_id</th>\n",
       "      <th>name</th>\n",
       "      <th>time</th>\n",
       "      <th>rating</th>\n",
       "      <th>text</th>\n",
       "      <th>pics</th>\n",
       "      <th>resp</th>\n",
       "      <th>gmap_id</th>\n",
       "    </tr>\n",
       "  </thead>\n",
       "  <tbody>\n",
       "    <tr>\n",
       "      <th>0</th>\n",
       "      <td>1.014719e+20</td>\n",
       "      <td>Julie A. Gerber</td>\n",
       "      <td>1628003250740</td>\n",
       "      <td>1</td>\n",
       "      <td>Update: Their “reply” to my review amounted to...</td>\n",
       "      <td>NaN</td>\n",
       "      <td>{'time': 1627042799532, 'text': 'Thank you for...</td>\n",
       "      <td>0x8893863ea87bd5dd:0x9383ebf973e74abb</td>\n",
       "    </tr>\n",
       "    <tr>\n",
       "      <th>1</th>\n",
       "      <td>1.154772e+20</td>\n",
       "      <td>Martin Sheffield</td>\n",
       "      <td>1595031217005</td>\n",
       "      <td>5</td>\n",
       "      <td>He's a knowledgeable doctor but the way he run...</td>\n",
       "      <td>NaN</td>\n",
       "      <td>{'time': 1582464056733, 'text': 'Thank you for...</td>\n",
       "      <td>0x8893863ea87bd5dd:0x9383ebf973e74abb</td>\n",
       "    </tr>\n",
       "  </tbody>\n",
       "</table>\n",
       "</div>"
      ],
      "text/plain": [
       "        user_id              name           time  rating   \n",
       "0  1.014719e+20   Julie A. Gerber  1628003250740       1  \\\n",
       "1  1.154772e+20  Martin Sheffield  1595031217005       5   \n",
       "\n",
       "                                                text pics   \n",
       "0  Update: Their “reply” to my review amounted to...  NaN  \\\n",
       "1  He's a knowledgeable doctor but the way he run...  NaN   \n",
       "\n",
       "                                                resp   \n",
       "0  {'time': 1627042799532, 'text': 'Thank you for...  \\\n",
       "1  {'time': 1582464056733, 'text': 'Thank you for...   \n",
       "\n",
       "                                 gmap_id  \n",
       "0  0x8893863ea87bd5dd:0x9383ebf973e74abb  \n",
       "1  0x8893863ea87bd5dd:0x9383ebf973e74abb  "
      ]
     },
     "execution_count": 2,
     "metadata": {},
     "output_type": "execute_result"
    }
   ],
   "source": [
    "data_gmaps = pd.read_csv(\"gmaps_FL.csv\", delimiter = \",\")\n",
    "data_gmaps.head(2)\n",
    "#data_2.columns"
   ]
  },
  {
   "cell_type": "code",
   "execution_count": 3,
   "metadata": {},
   "outputs": [
    {
     "name": "stdout",
     "output_type": "stream",
     "text": [
      "<class 'pandas.core.frame.DataFrame'>\n",
      "RangeIndex: 2850000 entries, 0 to 2849999\n",
      "Data columns (total 8 columns):\n",
      " #   Column   Dtype  \n",
      "---  ------   -----  \n",
      " 0   user_id  float64\n",
      " 1   name     object \n",
      " 2   time     int64  \n",
      " 3   rating   int64  \n",
      " 4   text     object \n",
      " 5   pics     object \n",
      " 6   resp     object \n",
      " 7   gmap_id  object \n",
      "dtypes: float64(1), int64(2), object(5)\n",
      "memory usage: 174.0+ MB\n"
     ]
    }
   ],
   "source": [
    "data_gmaps.info()"
   ]
  },
  {
   "cell_type": "code",
   "execution_count": 4,
   "metadata": {},
   "outputs": [
    {
     "data": {
      "text/plain": [
       "user_id     903683\n",
       "name        781029\n",
       "time       2729455\n",
       "rating           5\n",
       "text       1470127\n",
       "pics         95810\n",
       "resp        436417\n",
       "gmap_id      59200\n",
       "dtype: int64"
      ]
     },
     "execution_count": 4,
     "metadata": {},
     "output_type": "execute_result"
    }
   ],
   "source": [
    "# Totales por columnas\n",
    "data_gmaps.nunique()"
   ]
  },
  {
   "cell_type": "code",
   "execution_count": 5,
   "metadata": {},
   "outputs": [
    {
     "data": {
      "text/plain": [
       "user_id          0\n",
       "name            17\n",
       "time             0\n",
       "rating           0\n",
       "text       1079547\n",
       "pics       2745810\n",
       "resp       2394601\n",
       "gmap_id          0\n",
       "dtype: int64"
      ]
     },
     "execution_count": 5,
     "metadata": {},
     "output_type": "execute_result"
    }
   ],
   "source": [
    "data_gmaps.isnull().sum()"
   ]
  },
  {
   "cell_type": "code",
   "execution_count": 3,
   "metadata": {},
   "outputs": [
    {
     "data": {
      "text/plain": [
       "Index(['user_id', 'name', 'time', 'rating', 'text', 'gmap_id'], dtype='object')"
      ]
     },
     "execution_count": 3,
     "metadata": {},
     "output_type": "execute_result"
    }
   ],
   "source": [
    "# Eliminar filas con valores nulos de la columna 'id': df.dropna(subset=['id'])\n",
    "# Eliminar columnas que no usaremos\n",
    "data_gmaps = data_gmaps.drop(['pics', 'resp'], axis=1)\n",
    "data_gmaps.columns"
   ]
  },
  {
   "cell_type": "code",
   "execution_count": 8,
   "metadata": {},
   "outputs": [],
   "source": [
    "# Convierte los elementos de tipo float a cadenas en la columna 'text'\n",
    "data_gmaps['text'] = data_gmaps['text'].apply(lambda x: str(x) if isinstance(x, float) else x)"
   ]
  },
  {
   "cell_type": "code",
   "execution_count": 15,
   "metadata": {},
   "outputs": [
    {
     "data": {
      "text/plain": [
       "rating\n",
       "5    1870990\n",
       "4     476149\n",
       "3     221512\n",
       "1     192856\n",
       "2      88493\n",
       "Name: count, dtype: int64"
      ]
     },
     "execution_count": 15,
     "metadata": {},
     "output_type": "execute_result"
    }
   ],
   "source": [
    "#Se analizan los distintos valores de la columna Operador para identificar posibles análisis\n",
    "data_gmaps.rating.value_counts()"
   ]
  },
  {
   "cell_type": "code",
   "execution_count": 4,
   "metadata": {},
   "outputs": [
    {
     "data": {
      "text/html": [
       "<div>\n",
       "<style scoped>\n",
       "    .dataframe tbody tr th:only-of-type {\n",
       "        vertical-align: middle;\n",
       "    }\n",
       "\n",
       "    .dataframe tbody tr th {\n",
       "        vertical-align: top;\n",
       "    }\n",
       "\n",
       "    .dataframe thead th {\n",
       "        text-align: right;\n",
       "    }\n",
       "</style>\n",
       "<table border=\"1\" class=\"dataframe\">\n",
       "  <thead>\n",
       "    <tr style=\"text-align: right;\">\n",
       "      <th></th>\n",
       "      <th>business_id</th>\n",
       "      <th>name</th>\n",
       "      <th>address</th>\n",
       "      <th>city</th>\n",
       "      <th>state</th>\n",
       "      <th>postal_code</th>\n",
       "      <th>latitude</th>\n",
       "      <th>longitude</th>\n",
       "      <th>stars</th>\n",
       "      <th>review_count</th>\n",
       "      <th>is_open</th>\n",
       "      <th>attributes</th>\n",
       "      <th>categories</th>\n",
       "      <th>hours</th>\n",
       "    </tr>\n",
       "  </thead>\n",
       "  <tbody>\n",
       "    <tr>\n",
       "      <th>0</th>\n",
       "      <td>UJsufbvfyfONHeWdvAHKjA</td>\n",
       "      <td>Marshalls</td>\n",
       "      <td>21705 Village Lakes Sc Dr</td>\n",
       "      <td>Land O' Lakes</td>\n",
       "      <td>FL</td>\n",
       "      <td>34639</td>\n",
       "      <td>28.190459</td>\n",
       "      <td>-82.457380</td>\n",
       "      <td>3.5</td>\n",
       "      <td>6</td>\n",
       "      <td>1</td>\n",
       "      <td>{'RestaurantsPriceRange2': '2', 'BikeParking':...</td>\n",
       "      <td>Department Stores, Shopping, Fashion</td>\n",
       "      <td>{'Monday': '9:30-21:30', 'Tuesday': '9:30-21:3...</td>\n",
       "    </tr>\n",
       "    <tr>\n",
       "      <th>1</th>\n",
       "      <td>jaxMSoInw8Poo3XeMJt8lQ</td>\n",
       "      <td>Adams Dental</td>\n",
       "      <td>15 N Missouri Ave</td>\n",
       "      <td>Clearwater</td>\n",
       "      <td>FL</td>\n",
       "      <td>33755</td>\n",
       "      <td>27.966235</td>\n",
       "      <td>-82.787412</td>\n",
       "      <td>5.0</td>\n",
       "      <td>10</td>\n",
       "      <td>1</td>\n",
       "      <td>{'ByAppointmentOnly': 'True'}</td>\n",
       "      <td>General Dentistry, Dentists, Health &amp; Medical,...</td>\n",
       "      <td>{'Monday': '7:30-15:30', 'Tuesday': '7:30-15:3...</td>\n",
       "    </tr>\n",
       "  </tbody>\n",
       "</table>\n",
       "</div>"
      ],
      "text/plain": [
       "              business_id          name                    address   \n",
       "0  UJsufbvfyfONHeWdvAHKjA     Marshalls  21705 Village Lakes Sc Dr  \\\n",
       "1  jaxMSoInw8Poo3XeMJt8lQ  Adams Dental          15 N Missouri Ave   \n",
       "\n",
       "            city state postal_code   latitude  longitude  stars  review_count   \n",
       "0  Land O' Lakes    FL       34639  28.190459 -82.457380    3.5             6  \\\n",
       "1     Clearwater    FL       33755  27.966235 -82.787412    5.0            10   \n",
       "\n",
       "   is_open                                         attributes   \n",
       "0        1  {'RestaurantsPriceRange2': '2', 'BikeParking':...  \\\n",
       "1        1                      {'ByAppointmentOnly': 'True'}   \n",
       "\n",
       "                                          categories   \n",
       "0               Department Stores, Shopping, Fashion  \\\n",
       "1  General Dentistry, Dentists, Health & Medical,...   \n",
       "\n",
       "                                               hours  \n",
       "0  {'Monday': '9:30-21:30', 'Tuesday': '9:30-21:3...  \n",
       "1  {'Monday': '7:30-15:30', 'Tuesday': '7:30-15:3...  "
      ]
     },
     "execution_count": 4,
     "metadata": {},
     "output_type": "execute_result"
    }
   ],
   "source": [
    "data_yelp = pd.read_csv(\"business_yelp_florida.csv\", delimiter = \",\")\n",
    "data_yelp.head(2)\n",
    "#data_business"
   ]
  },
  {
   "cell_type": "code",
   "execution_count": 5,
   "metadata": {},
   "outputs": [
    {
     "name": "stdout",
     "output_type": "stream",
     "text": [
      "<class 'pandas.core.frame.DataFrame'>\n",
      "RangeIndex: 26329 entries, 0 to 26328\n",
      "Data columns (total 14 columns):\n",
      " #   Column        Non-Null Count  Dtype  \n",
      "---  ------        --------------  -----  \n",
      " 0   business_id   26329 non-null  object \n",
      " 1   name          26329 non-null  object \n",
      " 2   address       25413 non-null  object \n",
      " 3   city          26329 non-null  object \n",
      " 4   state         26329 non-null  object \n",
      " 5   postal_code   26321 non-null  object \n",
      " 6   latitude      26329 non-null  float64\n",
      " 7   longitude     26329 non-null  float64\n",
      " 8   stars         26329 non-null  float64\n",
      " 9   review_count  26329 non-null  int64  \n",
      " 10  is_open       26329 non-null  int64  \n",
      " 11  attributes    23883 non-null  object \n",
      " 12  categories    26311 non-null  object \n",
      " 13  hours         22221 non-null  object \n",
      "dtypes: float64(3), int64(2), object(9)\n",
      "memory usage: 2.8+ MB\n"
     ]
    }
   ],
   "source": [
    "# Verificación del tipo de dato de la columna 'fecha':\n",
    "data_yelp.info()"
   ]
  },
  {
   "cell_type": "code",
   "execution_count": 6,
   "metadata": {},
   "outputs": [
    {
     "data": {
      "text/plain": [
       "state\n",
       "FL    26329\n",
       "Name: count, dtype: int64"
      ]
     },
     "execution_count": 6,
     "metadata": {},
     "output_type": "execute_result"
    }
   ],
   "source": [
    "data_yelp.state.value_counts()"
   ]
  },
  {
   "cell_type": "code",
   "execution_count": 7,
   "metadata": {},
   "outputs": [
    {
     "data": {
      "text/plain": [
       "categories\n",
       "Beauty & Spas, Nail Salons                                                   176\n",
       "Restaurants, Pizza                                                           163\n",
       "Nail Salons, Beauty & Spas                                                   153\n",
       "Pizza, Restaurants                                                           142\n",
       "Mexican, Restaurants                                                         122\n",
       "                                                                            ... \n",
       "Vegan, Gluten-Free, Restaurants                                                1\n",
       "Nail Salons, Hair Removal, Beauty & Spas, Nail Technicians, Waxing             1\n",
       "Financial Services, Tax Services                                               1\n",
       "Interior Design, Home & Garden, Furniture Stores, Home Services, Shopping      1\n",
       "Retirement Homes, Health & Medical, Hospice, Rehabilitation Center             1\n",
       "Name: count, Length: 17457, dtype: int64"
      ]
     },
     "execution_count": 7,
     "metadata": {},
     "output_type": "execute_result"
    }
   ],
   "source": [
    "#Se analizan los distintos valores de la columna Operador para identificar posibles análisis\n",
    "data_yelp.categories.value_counts() "
   ]
  },
  {
   "cell_type": "code",
   "execution_count": 8,
   "metadata": {},
   "outputs": [],
   "source": [
    "with open('review.json', 'r') as f:\n",
    "        review = [json.loads(line) for line in f]\n",
    "\n",
    "data_review = pd.DataFrame(review)\n",
    "data_review.head(2)"
   ]
  },
  {
   "cell_type": "code",
   "execution_count": null,
   "metadata": {},
   "outputs": [],
   "source": [
    "data_review_florida = data_review[data_review['business_id'].isin(data_yelp['business_id'])]\n",
    "data_review_florida.head(2)"
   ]
  },
  {
   "cell_type": "code",
   "execution_count": null,
   "metadata": {},
   "outputs": [],
   "source": [
    "# Eliminar la columnas que no usaremos\n",
    "df2 = df1.drop(columns=['genres', 'title', 'specs', 'price', 'early_access', 'metascore', 'year', 'playtime_forever'])\n",
    "df2.head(2)"
   ]
  },
  {
   "cell_type": "code",
   "execution_count": 5,
   "metadata": {},
   "outputs": [],
   "source": [
    "# Transformacion de Tags a columnas \n",
    "# Llenamos los valores de las columnas con datos nulos\n",
    "df_steam_games['tags'] = df_steam_games['tags'].fillna('[]')\n",
    "df_steam_games['tags'] = df_steam_games['tags'].apply(lambda x: ast.literal_eval(str(x)))\n",
    "data_games_tags = pd.DataFrame(df_steam_games['tags'].tolist())\n",
    "data_games_tags_obj = data_games_tags.stack()\n",
    "data_games_tags_df = pd.get_dummies(data_games_tags_obj)"
   ]
  },
  {
   "cell_type": "code",
   "execution_count": 6,
   "metadata": {},
   "outputs": [
    {
     "data": {
      "text/html": [
       "<div>\n",
       "<style scoped>\n",
       "    .dataframe tbody tr th:only-of-type {\n",
       "        vertical-align: middle;\n",
       "    }\n",
       "\n",
       "    .dataframe tbody tr th {\n",
       "        vertical-align: top;\n",
       "    }\n",
       "\n",
       "    .dataframe thead th {\n",
       "        text-align: right;\n",
       "    }\n",
       "</style>\n",
       "<table border=\"1\" class=\"dataframe\">\n",
       "  <thead>\n",
       "    <tr style=\"text-align: right;\">\n",
       "      <th></th>\n",
       "      <th>1980s</th>\n",
       "      <th>1990's</th>\n",
       "      <th>2.5D</th>\n",
       "      <th>2D</th>\n",
       "      <th>2D Fighter</th>\n",
       "      <th>360 Video</th>\n",
       "      <th>3D Platformer</th>\n",
       "      <th>3D Vision</th>\n",
       "      <th>4 Player Local</th>\n",
       "      <th>4X</th>\n",
       "      <th>...</th>\n",
       "      <th>Warhammer 40K</th>\n",
       "      <th>Web Publishing</th>\n",
       "      <th>Werewolves</th>\n",
       "      <th>Western</th>\n",
       "      <th>Word Game</th>\n",
       "      <th>World War I</th>\n",
       "      <th>World War II</th>\n",
       "      <th>Wrestling</th>\n",
       "      <th>Zombies</th>\n",
       "      <th>e-sports</th>\n",
       "    </tr>\n",
       "  </thead>\n",
       "  <tbody>\n",
       "    <tr>\n",
       "      <th>0</th>\n",
       "      <td>0</td>\n",
       "      <td>0</td>\n",
       "      <td>0</td>\n",
       "      <td>0</td>\n",
       "      <td>0</td>\n",
       "      <td>0</td>\n",
       "      <td>0</td>\n",
       "      <td>0</td>\n",
       "      <td>0</td>\n",
       "      <td>0</td>\n",
       "      <td>...</td>\n",
       "      <td>0</td>\n",
       "      <td>0</td>\n",
       "      <td>0</td>\n",
       "      <td>0</td>\n",
       "      <td>0</td>\n",
       "      <td>0</td>\n",
       "      <td>0</td>\n",
       "      <td>0</td>\n",
       "      <td>0</td>\n",
       "      <td>0</td>\n",
       "    </tr>\n",
       "    <tr>\n",
       "      <th>1</th>\n",
       "      <td>0</td>\n",
       "      <td>0</td>\n",
       "      <td>0</td>\n",
       "      <td>1</td>\n",
       "      <td>0</td>\n",
       "      <td>0</td>\n",
       "      <td>0</td>\n",
       "      <td>0</td>\n",
       "      <td>0</td>\n",
       "      <td>0</td>\n",
       "      <td>...</td>\n",
       "      <td>0</td>\n",
       "      <td>0</td>\n",
       "      <td>0</td>\n",
       "      <td>0</td>\n",
       "      <td>0</td>\n",
       "      <td>0</td>\n",
       "      <td>0</td>\n",
       "      <td>0</td>\n",
       "      <td>0</td>\n",
       "      <td>0</td>\n",
       "    </tr>\n",
       "  </tbody>\n",
       "</table>\n",
       "<p>2 rows × 339 columns</p>\n",
       "</div>"
      ],
      "text/plain": [
       "   1980s  1990's  2.5D  2D  2D Fighter  360 Video  3D Platformer  3D Vision   \n",
       "0      0       0     0   0           0          0              0          0  \\\n",
       "1      0       0     0   1           0          0              0          0   \n",
       "\n",
       "   4 Player Local  4X  ...  Warhammer 40K  Web Publishing  Werewolves   \n",
       "0               0   0  ...              0               0           0  \\\n",
       "1               0   0  ...              0               0           0   \n",
       "\n",
       "   Western  Word Game  World War I  World War II  Wrestling  Zombies  e-sports  \n",
       "0        0          0            0             0          0        0         0  \n",
       "1        0          0            0             0          0        0         0  \n",
       "\n",
       "[2 rows x 339 columns]"
      ]
     },
     "execution_count": 6,
     "metadata": {},
     "output_type": "execute_result"
    }
   ],
   "source": [
    "data_games_tags_df = data_games_tags_df.groupby(level=[0],axis=0).sum()\n",
    "data_games_tags_df.head(2)"
   ]
  },
  {
   "cell_type": "code",
   "execution_count": 7,
   "metadata": {},
   "outputs": [
    {
     "data": {
      "text/plain": [
       "Indie               0.551124\n",
       "Action              0.406744\n",
       "Adventure           0.307466\n",
       "Casual              0.304620\n",
       "Simulation          0.241782\n",
       "Strategy            0.236652\n",
       "RPG                 0.185137\n",
       "Singleplayer        0.135904\n",
       "Free to Play        0.075256\n",
       "Multiplayer         0.074536\n",
       "Great Soundtrack    0.069907\n",
       "Puzzle              0.066029\n",
       "Early Access        0.060899\n",
       "2D                  0.060836\n",
       "Atmospheric         0.060492\n",
       "VR                  0.056176\n",
       "Sports              0.049952\n",
       "Platformer          0.045322\n",
       "Story Rich          0.045197\n",
       "Sci-fi              0.043414\n",
       "dtype: float64"
      ]
     },
     "execution_count": 7,
     "metadata": {},
     "output_type": "execute_result"
    }
   ],
   "source": [
    "data_games_tags_df.sum().sort_values(ascending=False).head(20)/len(data_games_tags_df)"
   ]
  },
  {
   "cell_type": "code",
   "execution_count": 8,
   "metadata": {},
   "outputs": [
    {
     "data": {
      "text/html": [
       "<div>\n",
       "<style scoped>\n",
       "    .dataframe tbody tr th:only-of-type {\n",
       "        vertical-align: middle;\n",
       "    }\n",
       "\n",
       "    .dataframe tbody tr th {\n",
       "        vertical-align: top;\n",
       "    }\n",
       "\n",
       "    .dataframe thead th {\n",
       "        text-align: right;\n",
       "    }\n",
       "</style>\n",
       "<table border=\"1\" class=\"dataframe\">\n",
       "  <thead>\n",
       "    <tr style=\"text-align: right;\">\n",
       "      <th></th>\n",
       "      <th>Action</th>\n",
       "      <th>Indie</th>\n",
       "      <th>Adventure</th>\n",
       "      <th>Casual</th>\n",
       "      <th>Fighting</th>\n",
       "      <th>Free to Play</th>\n",
       "      <th>Multiplayer</th>\n",
       "      <th>Puzzle</th>\n",
       "      <th>RPG</th>\n",
       "      <th>Sandbox</th>\n",
       "      <th>Shooter</th>\n",
       "      <th>Simulation</th>\n",
       "      <th>Singleplayer</th>\n",
       "      <th>Sports</th>\n",
       "      <th>Strategy</th>\n",
       "      <th>Survival</th>\n",
       "      <th>Zombies</th>\n",
       "    </tr>\n",
       "  </thead>\n",
       "  <tbody>\n",
       "    <tr>\n",
       "      <th>0</th>\n",
       "      <td>1</td>\n",
       "      <td>1</td>\n",
       "      <td>0</td>\n",
       "      <td>1</td>\n",
       "      <td>0</td>\n",
       "      <td>0</td>\n",
       "      <td>0</td>\n",
       "      <td>0</td>\n",
       "      <td>0</td>\n",
       "      <td>0</td>\n",
       "      <td>0</td>\n",
       "      <td>1</td>\n",
       "      <td>0</td>\n",
       "      <td>0</td>\n",
       "      <td>1</td>\n",
       "      <td>0</td>\n",
       "      <td>0</td>\n",
       "    </tr>\n",
       "    <tr>\n",
       "      <th>1</th>\n",
       "      <td>0</td>\n",
       "      <td>1</td>\n",
       "      <td>0</td>\n",
       "      <td>0</td>\n",
       "      <td>0</td>\n",
       "      <td>1</td>\n",
       "      <td>0</td>\n",
       "      <td>0</td>\n",
       "      <td>1</td>\n",
       "      <td>0</td>\n",
       "      <td>0</td>\n",
       "      <td>0</td>\n",
       "      <td>0</td>\n",
       "      <td>0</td>\n",
       "      <td>1</td>\n",
       "      <td>0</td>\n",
       "      <td>0</td>\n",
       "    </tr>\n",
       "  </tbody>\n",
       "</table>\n",
       "</div>"
      ],
      "text/plain": [
       "   Action  Indie  Adventure  Casual  Fighting  Free to Play  Multiplayer   \n",
       "0       1      1          0       1         0             0            0  \\\n",
       "1       0      1          0       0         0             1            0   \n",
       "\n",
       "   Puzzle  RPG  Sandbox  Shooter  Simulation  Singleplayer  Sports  Strategy   \n",
       "0       0    0        0        0           1             0       0         1  \\\n",
       "1       0    1        0        0           0             0       0         1   \n",
       "\n",
       "   Survival  Zombies  \n",
       "0         0        0  \n",
       "1         0        0  "
      ]
     },
     "execution_count": 8,
     "metadata": {},
     "output_type": "execute_result"
    }
   ],
   "source": [
    "temp_df = data_games_tags_df[['Action','Indie','Adventure','Casual','Fighting','Free to Play','Multiplayer',\n",
    "    'Puzzle','RPG','Sandbox','Shooter','Simulation','Singleplayer','Sports','Strategy','Survival','Zombies']]\n",
    "temp_df.head(2)"
   ]
  },
  {
   "cell_type": "code",
   "execution_count": 9,
   "metadata": {},
   "outputs": [
    {
     "data": {
      "text/html": [
       "<div>\n",
       "<style scoped>\n",
       "    .dataframe tbody tr th:only-of-type {\n",
       "        vertical-align: middle;\n",
       "    }\n",
       "\n",
       "    .dataframe tbody tr th {\n",
       "        vertical-align: top;\n",
       "    }\n",
       "\n",
       "    .dataframe thead th {\n",
       "        text-align: right;\n",
       "    }\n",
       "</style>\n",
       "<table border=\"1\" class=\"dataframe\">\n",
       "  <thead>\n",
       "    <tr style=\"text-align: right;\">\n",
       "      <th></th>\n",
       "      <th>0</th>\n",
       "      <th>1</th>\n",
       "      <th>2</th>\n",
       "      <th>3</th>\n",
       "      <th>4</th>\n",
       "      <th>5</th>\n",
       "      <th>6</th>\n",
       "      <th>7</th>\n",
       "      <th>8</th>\n",
       "      <th>9</th>\n",
       "      <th>...</th>\n",
       "      <th>26</th>\n",
       "      <th>27</th>\n",
       "      <th>28</th>\n",
       "      <th>29</th>\n",
       "      <th>30</th>\n",
       "      <th>31</th>\n",
       "      <th>32</th>\n",
       "      <th>33</th>\n",
       "      <th>34</th>\n",
       "      <th>35</th>\n",
       "    </tr>\n",
       "  </thead>\n",
       "  <tbody>\n",
       "    <tr>\n",
       "      <th>88310</th>\n",
       "      <td>Kotoshiro</td>\n",
       "      <td>[Action, Casual, Indie, Simulation, Strategy]</td>\n",
       "      <td>Lost Summoner Kitty</td>\n",
       "      <td>Lost Summoner Kitty</td>\n",
       "      <td>http://store.steampowered.com/app/761140/Lost_...</td>\n",
       "      <td>2018-01-04</td>\n",
       "      <td>[Strategy, Action, Indie, Casual, Simulation]</td>\n",
       "      <td>http://steamcommunity.com/app/761140/reviews/?...</td>\n",
       "      <td>4.49</td>\n",
       "      <td>[Single-player]</td>\n",
       "      <td>...</td>\n",
       "      <td>NaN</td>\n",
       "      <td>NaN</td>\n",
       "      <td>NaN</td>\n",
       "      <td>NaN</td>\n",
       "      <td>NaN</td>\n",
       "      <td>NaN</td>\n",
       "      <td>NaN</td>\n",
       "      <td>NaN</td>\n",
       "      <td>NaN</td>\n",
       "      <td>NaN</td>\n",
       "    </tr>\n",
       "    <tr>\n",
       "      <th>88311</th>\n",
       "      <td>Making Fun, Inc.</td>\n",
       "      <td>[Free to Play, Indie, RPG, Strategy]</td>\n",
       "      <td>Ironbound</td>\n",
       "      <td>Ironbound</td>\n",
       "      <td>http://store.steampowered.com/app/643980/Ironb...</td>\n",
       "      <td>2018-01-04</td>\n",
       "      <td>[Free to Play, Strategy, Indie, RPG, Card Game...</td>\n",
       "      <td>http://steamcommunity.com/app/643980/reviews/?...</td>\n",
       "      <td>NaN</td>\n",
       "      <td>[Single-player, Multi-player, Online Multi-Pla...</td>\n",
       "      <td>...</td>\n",
       "      <td>NaN</td>\n",
       "      <td>NaN</td>\n",
       "      <td>NaN</td>\n",
       "      <td>NaN</td>\n",
       "      <td>NaN</td>\n",
       "      <td>NaN</td>\n",
       "      <td>NaN</td>\n",
       "      <td>NaN</td>\n",
       "      <td>NaN</td>\n",
       "      <td>NaN</td>\n",
       "    </tr>\n",
       "  </tbody>\n",
       "</table>\n",
       "<p>2 rows × 36 columns</p>\n",
       "</div>"
      ],
      "text/plain": [
       "                     0                                              1    \n",
       "88310         Kotoshiro  [Action, Casual, Indie, Simulation, Strategy]  \\\n",
       "88311  Making Fun, Inc.           [Free to Play, Indie, RPG, Strategy]   \n",
       "\n",
       "                        2                    3    \n",
       "88310  Lost Summoner Kitty  Lost Summoner Kitty  \\\n",
       "88311            Ironbound            Ironbound   \n",
       "\n",
       "                                                      4           5    \n",
       "88310  http://store.steampowered.com/app/761140/Lost_...  2018-01-04  \\\n",
       "88311  http://store.steampowered.com/app/643980/Ironb...  2018-01-04   \n",
       "\n",
       "                                                      6    \n",
       "88310      [Strategy, Action, Indie, Casual, Simulation]  \\\n",
       "88311  [Free to Play, Strategy, Indie, RPG, Card Game...   \n",
       "\n",
       "                                                      7     8    \n",
       "88310  http://steamcommunity.com/app/761140/reviews/?...  4.49  \\\n",
       "88311  http://steamcommunity.com/app/643980/reviews/?...   NaN   \n",
       "\n",
       "                                                      9   ...  26  27  28  29   \n",
       "88310                                    [Single-player]  ... NaN NaN NaN NaN  \\\n",
       "88311  [Single-player, Multi-player, Online Multi-Pla...  ... NaN NaN NaN NaN   \n",
       "\n",
       "       30  31  32  33  34  35  \n",
       "88310 NaN NaN NaN NaN NaN NaN  \n",
       "88311 NaN NaN NaN NaN NaN NaN  \n",
       "\n",
       "[2 rows x 36 columns]"
      ]
     },
     "execution_count": 9,
     "metadata": {},
     "output_type": "execute_result"
    }
   ],
   "source": [
    "df_steam_games = pd.concat([df_steam_games,temp_df],axis=1,ignore_index=True)\n",
    "df_steam_games.head(2)"
   ]
  },
  {
   "cell_type": "code",
   "execution_count": null,
   "metadata": {},
   "outputs": [],
   "source": [
    "# Grabar el dataframe data_geres, specs sen un archivo CSV\n",
    "data_geres.to_csv('data_geres.csv', header=True, index=False)\n",
    "data_specs.to_csv('data_specs.csv', header=True, index=False)\n",
    "data_tags.to_csv('data_tags.csv', header=True, index=False)\n",
    "\n",
    "# import pandas as pd\n",
    "df_geres = pd.read_csv('data_geres.csv')\n",
    "df_geres = df_geres.rename(columns={'Unnamed: 0': 'NuevoNombre'})\n",
    "df_geres = df_geres.drop(['NuevoNombre'], axis=1)\n",
    "df_geres.head(2)"
   ]
  },
  {
   "cell_type": "markdown",
   "metadata": {},
   "source": [
    "### Sentiments\n",
    "En el dataset user_reviews se incluyen reseñas de juegos hechos por distintos usuarios. Debes crear la columna 'sentiment_analysis' aplicando análisis de sentimiento con NLP con la siguiente escala: debe tomar el valor '0' si es malo, '1' si es neutral y '2' si es positivo. Esta nueva columna debe reemplazar la de user_reviews.review para facilitar el trabajo de los modelos de machine learning y el análisis de datos. De no ser posible este análisis por estar ausente la reseña escrita, debe tomar el valor de 1.\n",
    "\n",
    "def sentiment_analysis(año : int): Según el año de lanzamiento, se devuelve una lista con la cantidad de registros de reseñas de usuarios que se encuentren categorizados con un análisis de sentimiento. Ejemplo de retorno: {Negative = 182, Neutral = 120, Positive = 278}\n",
    "\n",
    "Nuestro cliente es parte de un conglomerado de empresas de restaurantes y afines, y desean tener un análisis detallado de la opinión de los usuarios en Yelp y cruzarlos con los de Google Maps sobre hoteles, restaurantes y otros negocios afines al turismo y ocio, utilizando análisis de sentimientos.\n",
    "- Predecir cuáles serán los rubros de los negocios que más crecerán (o decaerán). \n",
    "- Dónde es conveniente reemplazar los nuevos locales de restaurantes y afines. \n",
    "\n",
    "Sistema de recomendación de restaurantes para los usuarios de ambas plataformas para darle, al usuario por ejemplo la posibilidad de poder conocer nuevos sabores basados en sus experiencias previas."
   ]
  },
  {
   "cell_type": "code",
   "execution_count": 1,
   "metadata": {},
   "outputs": [],
   "source": [
    "import pandas as pd"
   ]
  },
  {
   "cell_type": "code",
   "execution_count": 3,
   "metadata": {},
   "outputs": [
    {
     "data": {
      "text/plain": [
       "(249056, 34)"
      ]
     },
     "execution_count": 3,
     "metadata": {},
     "output_type": "execute_result"
    }
   ],
   "source": [
    "# Lectura de datos del archivo ETL_business \n",
    "df_review_categories = pd.read_csv('review_cities_categories.csv')\n",
    "df_review_categories.shape"
   ]
  },
  {
   "cell_type": "code",
   "execution_count": 4,
   "metadata": {},
   "outputs": [
    {
     "name": "stderr",
     "output_type": "stream",
     "text": [
      "[nltk_data] Downloading package vader_lexicon to\n",
      "[nltk_data]     C:\\Users\\n_sar\\AppData\\Roaming\\nltk_data...\n"
     ]
    },
    {
     "data": {
      "text/plain": [
       "True"
      ]
     },
     "execution_count": 4,
     "metadata": {},
     "output_type": "execute_result"
    }
   ],
   "source": [
    "import nltk\n",
    "from nltk.sentiment import SentimentIntensityAnalyzer\n",
    "nltk.download('vader_lexicon')"
   ]
  },
  {
   "cell_type": "code",
   "execution_count": 5,
   "metadata": {},
   "outputs": [],
   "source": [
    "def analizar_sentimiento(texto):\n",
    "    sia = SentimentIntensityAnalyzer()\n",
    "    polaridad = sia.polarity_scores(texto)['compound']\n",
    "    \n",
    "    if polaridad > 0.05:\n",
    "        return 'Positiva'\n",
    "    elif polaridad < -0.05:\n",
    "        return 'Negativa'\n",
    "    else:\n",
    "        return 'Neutra'"
   ]
  },
  {
   "cell_type": "code",
   "execution_count": null,
   "metadata": {},
   "outputs": [],
   "source": [
    "df_review_categories['sentiment_analysis'] = df_review_categories['text'].apply(analizar_sentimiento)   \n",
    "df_review_categories.head(2)"
   ]
  },
  {
   "cell_type": "markdown",
   "metadata": {},
   "source": [
    "### Modelo de aprendizaje automático\n",
    "Una vez que toda la data es consumible por la API, está lista para consumir por los departamentos de Analytics y Machine Learning, y nuestro EDA nos permite entender bien los datos a los que tenemos acceso, es hora de entrenar nuestro modelo de machine learning para armar un sistema de recomendación. "
   ]
  },
  {
   "cell_type": "markdown",
   "metadata": {},
   "source": [
    "Para ello, te ofrecen dos propuestas de trabajo: \n",
    "En la primera, el modelo deberá tener una relación ítem-ítem, esto es se toma un item, en base a que tan similar esa ese ítem al resto, se recomiendan similares. Aquí el input es un juego y el output es una lista de juegos recomendados, para ello recomendamos aplicar la similitud del coseno. "
   ]
  },
  {
   "cell_type": "code",
   "execution_count": 2,
   "metadata": {},
   "outputs": [
    {
     "data": {
      "text/html": [
       "<div>\n",
       "<style scoped>\n",
       "    .dataframe tbody tr th:only-of-type {\n",
       "        vertical-align: middle;\n",
       "    }\n",
       "\n",
       "    .dataframe tbody tr th {\n",
       "        vertical-align: top;\n",
       "    }\n",
       "\n",
       "    .dataframe thead th {\n",
       "        text-align: right;\n",
       "    }\n",
       "</style>\n",
       "<table border=\"1\" class=\"dataframe\">\n",
       "  <thead>\n",
       "    <tr style=\"text-align: right;\">\n",
       "      <th></th>\n",
       "      <th>name_gmaps</th>\n",
       "      <th>address_gmaps</th>\n",
       "      <th>gmap_id</th>\n",
       "      <th>avg_rating_gmaps</th>\n",
       "      <th>business_id</th>\n",
       "      <th>name_yelp</th>\n",
       "      <th>address_yelp</th>\n",
       "      <th>city</th>\n",
       "      <th>stars_yelp</th>\n",
       "      <th>user_id_gmaps</th>\n",
       "      <th>text_gmaps</th>\n",
       "      <th>review_id_yelp</th>\n",
       "      <th>user_id</th>\n",
       "      <th>text_yelp</th>\n",
       "      <th>review_count_user_yelp</th>\n",
       "      <th>average_stars</th>\n",
       "    </tr>\n",
       "  </thead>\n",
       "  <tbody>\n",
       "    <tr>\n",
       "      <th>0</th>\n",
       "      <td>KUBA EN LA PLAYA</td>\n",
       "      <td>KUBA EN LA PLAYA, 7525 Blind Pass Rd, St Pete ...</td>\n",
       "      <td>0x88c2fdf85af1beab:0xe3181616d85e0c32</td>\n",
       "      <td>4.7</td>\n",
       "      <td>IjtKwA7njLjTvZr0nFSLeA</td>\n",
       "      <td>Kuba</td>\n",
       "      <td>7525 Blind Pass Rd</td>\n",
       "      <td>St. Pete Beach</td>\n",
       "      <td>4.0</td>\n",
       "      <td>1.151756e+20</td>\n",
       "      <td>Hands down the best Cuban I've had. A great sp...</td>\n",
       "      <td>RxiPnO9K2-Wh4ZwjDA97Pg</td>\n",
       "      <td>8OxNMS2n6PuKip-1oHVweQ</td>\n",
       "      <td>Good food but the quality doesn't seem to just...</td>\n",
       "      <td>7</td>\n",
       "      <td>2.73</td>\n",
       "    </tr>\n",
       "    <tr>\n",
       "      <th>1</th>\n",
       "      <td>KUBA EN LA PLAYA</td>\n",
       "      <td>KUBA EN LA PLAYA, 7525 Blind Pass Rd, St Pete ...</td>\n",
       "      <td>0x88c2fdf85af1beab:0xe3181616d85e0c32</td>\n",
       "      <td>4.7</td>\n",
       "      <td>IjtKwA7njLjTvZr0nFSLeA</td>\n",
       "      <td>Kuba</td>\n",
       "      <td>7525 Blind Pass Rd</td>\n",
       "      <td>St. Pete Beach</td>\n",
       "      <td>4.0</td>\n",
       "      <td>1.151027e+20</td>\n",
       "      <td>Stopped by there for lunch.\\nGot my wife the e...</td>\n",
       "      <td>RxiPnO9K2-Wh4ZwjDA97Pg</td>\n",
       "      <td>8OxNMS2n6PuKip-1oHVweQ</td>\n",
       "      <td>Good food but the quality doesn't seem to just...</td>\n",
       "      <td>7</td>\n",
       "      <td>2.73</td>\n",
       "    </tr>\n",
       "  </tbody>\n",
       "</table>\n",
       "</div>"
      ],
      "text/plain": [
       "         name_gmaps                                      address_gmaps  \\\n",
       "0  KUBA EN LA PLAYA  KUBA EN LA PLAYA, 7525 Blind Pass Rd, St Pete ...   \n",
       "1  KUBA EN LA PLAYA  KUBA EN LA PLAYA, 7525 Blind Pass Rd, St Pete ...   \n",
       "\n",
       "                                 gmap_id  avg_rating_gmaps  \\\n",
       "0  0x88c2fdf85af1beab:0xe3181616d85e0c32               4.7   \n",
       "1  0x88c2fdf85af1beab:0xe3181616d85e0c32               4.7   \n",
       "\n",
       "              business_id name_yelp        address_yelp            city  \\\n",
       "0  IjtKwA7njLjTvZr0nFSLeA     Kuba   7525 Blind Pass Rd  St. Pete Beach   \n",
       "1  IjtKwA7njLjTvZr0nFSLeA     Kuba   7525 Blind Pass Rd  St. Pete Beach   \n",
       "\n",
       "   stars_yelp  user_id_gmaps  \\\n",
       "0         4.0   1.151756e+20   \n",
       "1         4.0   1.151027e+20   \n",
       "\n",
       "                                          text_gmaps          review_id_yelp  \\\n",
       "0  Hands down the best Cuban I've had. A great sp...  RxiPnO9K2-Wh4ZwjDA97Pg   \n",
       "1  Stopped by there for lunch.\\nGot my wife the e...  RxiPnO9K2-Wh4ZwjDA97Pg   \n",
       "\n",
       "                  user_id                                          text_yelp  \\\n",
       "0  8OxNMS2n6PuKip-1oHVweQ  Good food but the quality doesn't seem to just...   \n",
       "1  8OxNMS2n6PuKip-1oHVweQ  Good food but the quality doesn't seem to just...   \n",
       "\n",
       "   review_count_user_yelp  average_stars  \n",
       "0                       7           2.73  \n",
       "1                       7           2.73  "
      ]
     },
     "execution_count": 2,
     "metadata": {},
     "output_type": "execute_result"
    }
   ],
   "source": [
    "df1 = pd.read_csv('data_1000.csv')\n",
    "df1.head(2)"
   ]
  },
  {
   "cell_type": "code",
   "execution_count": 13,
   "metadata": {},
   "outputs": [
    {
     "data": {
      "text/html": [
       "<div>\n",
       "<style scoped>\n",
       "    .dataframe tbody tr th:only-of-type {\n",
       "        vertical-align: middle;\n",
       "    }\n",
       "\n",
       "    .dataframe tbody tr th {\n",
       "        vertical-align: top;\n",
       "    }\n",
       "\n",
       "    .dataframe thead th {\n",
       "        text-align: right;\n",
       "    }\n",
       "</style>\n",
       "<table border=\"1\" class=\"dataframe\">\n",
       "  <thead>\n",
       "    <tr style=\"text-align: right;\">\n",
       "      <th></th>\n",
       "      <th>id</th>\n",
       "      <th>Action</th>\n",
       "      <th>Casual</th>\n",
       "      <th>Indie</th>\n",
       "      <th>Simulation</th>\n",
       "      <th>Strategy</th>\n",
       "      <th>Free to Play</th>\n",
       "      <th>RPG</th>\n",
       "      <th>Sports</th>\n",
       "      <th>Adventure</th>\n",
       "      <th>...</th>\n",
       "      <th>Video Production</th>\n",
       "      <th>Utilities</th>\n",
       "      <th>Web Publishing</th>\n",
       "      <th>Education</th>\n",
       "      <th>Software Training</th>\n",
       "      <th>Design &amp;amp; Illustration</th>\n",
       "      <th>Audio Production</th>\n",
       "      <th>Photo Editing</th>\n",
       "      <th>Accounting</th>\n",
       "      <th>recommend</th>\n",
       "    </tr>\n",
       "  </thead>\n",
       "  <tbody>\n",
       "    <tr>\n",
       "      <th>0</th>\n",
       "      <td>282010</td>\n",
       "      <td>1.0</td>\n",
       "      <td>0.0</td>\n",
       "      <td>1.0</td>\n",
       "      <td>0.0</td>\n",
       "      <td>0.0</td>\n",
       "      <td>0.0</td>\n",
       "      <td>0.0</td>\n",
       "      <td>0.0</td>\n",
       "      <td>0.0</td>\n",
       "      <td>...</td>\n",
       "      <td>0.0</td>\n",
       "      <td>0.0</td>\n",
       "      <td>0.0</td>\n",
       "      <td>0.0</td>\n",
       "      <td>0.0</td>\n",
       "      <td>0.0</td>\n",
       "      <td>0.0</td>\n",
       "      <td>0.0</td>\n",
       "      <td>0.0</td>\n",
       "      <td>1</td>\n",
       "    </tr>\n",
       "    <tr>\n",
       "      <th>1</th>\n",
       "      <td>70</td>\n",
       "      <td>1.0</td>\n",
       "      <td>0.0</td>\n",
       "      <td>0.0</td>\n",
       "      <td>0.0</td>\n",
       "      <td>0.0</td>\n",
       "      <td>0.0</td>\n",
       "      <td>0.0</td>\n",
       "      <td>0.0</td>\n",
       "      <td>0.0</td>\n",
       "      <td>...</td>\n",
       "      <td>0.0</td>\n",
       "      <td>0.0</td>\n",
       "      <td>0.0</td>\n",
       "      <td>0.0</td>\n",
       "      <td>0.0</td>\n",
       "      <td>0.0</td>\n",
       "      <td>0.0</td>\n",
       "      <td>0.0</td>\n",
       "      <td>0.0</td>\n",
       "      <td>61</td>\n",
       "    </tr>\n",
       "  </tbody>\n",
       "</table>\n",
       "<p>2 rows × 24 columns</p>\n",
       "</div>"
      ],
      "text/plain": [
       "       id  Action  Casual  Indie  Simulation  Strategy  Free to Play  RPG   \n",
       "0  282010     1.0     0.0    1.0         0.0       0.0           0.0  0.0  \\\n",
       "1      70     1.0     0.0    0.0         0.0       0.0           0.0  0.0   \n",
       "\n",
       "   Sports  Adventure  ...  Video Production  Utilities  Web Publishing   \n",
       "0     0.0        0.0  ...               0.0        0.0             0.0  \\\n",
       "1     0.0        0.0  ...               0.0        0.0             0.0   \n",
       "\n",
       "   Education  Software Training  Design &amp; Illustration  Audio Production   \n",
       "0        0.0                0.0                        0.0               0.0  \\\n",
       "1        0.0                0.0                        0.0               0.0   \n",
       "\n",
       "   Photo Editing  Accounting  recommend  \n",
       "0            0.0         0.0          1  \n",
       "1            0.0         0.0         61  \n",
       "\n",
       "[2 rows x 24 columns]"
      ]
     },
     "execution_count": 13,
     "metadata": {},
     "output_type": "execute_result"
    }
   ],
   "source": [
    "# Eliminar la columna 'release_date'\n",
    "df2 = df1.drop(columns=['genres', 'title', 'specs', 'price', 'early_access', 'metascore', 'year', 'playtime_forever'])\n",
    "df2.head(2)"
   ]
  },
  {
   "cell_type": "code",
   "execution_count": 45,
   "metadata": {},
   "outputs": [],
   "source": [
    "\n",
    "# Reemplaza 'df_gmap_state' con el nombre real de tu DataFrame\n",
    "df = pd.read_csv('florida_reviews.csv')\n",
    "df_3 = df.head(30)\n",
    "\n",
    "# Paso 1: Calcular la matriz TF-IDF de los textos\n",
    "tfidf_vectorizer = TfidfVectorizer(stop_words='english')\n",
    "tfidf_matrix = tfidf_vectorizer.fit_transform(df_3['text'].values.astype('U'))\n",
    "\n",
    "# Paso 2: Calcular similitudes de coseno entre los textos\n",
    "cosine_sim = linear_kernel(tfidf_matrix, tfidf_matrix)\n",
    "\n",
    "# Paso 3: Crear un mapeo entre los nombres de negocios y sus índices\n",
    "indices = pd.Series(df_3.index, index=df_3['name']).drop_duplicates()\n",
    "indices\n",
    "# Función para obtener recomendaciones\n",
    "def obtener_recomendaciones(nombre_negocio, cosine_sim=cosine_sim):\n",
    "    # Obtenemos el índice del negocio según su nombre\n",
    "    if nombre_negocio in indices:\n",
    "        idx = indices[nombre_negocio]\n",
    "    else:\n",
    "        return [\"No se encontro el negocio\"]\n",
    "    # Obtenemos las puntuaciones de similitud de coseno para todos los negocios\n",
    "    sim_scores = list(enumerate(cosine_sim[idx]))\n",
    "\n",
    "    # Ordenamos los negocios según las puntuaciones de similitud\n",
    "    sim_scores = sorted(sim_scores, key=lambda x: x[1], reverse=True)\n",
    "\n",
    "    # Obtenemos los índices de los 5 negocios más similares\n",
    "    top_indices = [i[0] for i in sim_scores[1:6]]\n",
    "\n",
    "    # Devolvemos los nombres de los negocios más similares\n",
    "    return df_3['name'].iloc[top_indices]\n",
    "\n"
   ]
  },
  {
   "cell_type": "code",
   "execution_count": 47,
   "metadata": {},
   "outputs": [
    {
     "name": "stdout",
     "output_type": "stream",
     "text": [
      "Recomendaciones para 'David Delgado':\n",
      "Douglas Gummere\n",
      "David Powell\n",
      "Hillary Hutchins\n",
      "Ajay patel\n",
      "Desiree Martina\n"
     ]
    }
   ],
   "source": [
    "# Ejemplo de uso:\n",
    "nombre_negocio = \"David Delgado\"\n",
    "recomendaciones = obtener_recomendaciones(nombre_negocio)\n",
    "\n",
    "print(f\"Recomendaciones para '{nombre_negocio}':\")\n",
    "for nombre in recomendaciones:\n",
    "    print(nombre)"
   ]
  }
 ],
 "metadata": {
  "kernelspec": {
   "display_name": "base",
   "language": "python",
   "name": "python3"
  },
  "language_info": {
   "codemirror_mode": {
    "name": "ipython",
    "version": 3
   },
   "file_extension": ".py",
   "mimetype": "text/x-python",
   "name": "python",
   "nbconvert_exporter": "python",
   "pygments_lexer": "ipython3",
   "version": "3.8.8"
  },
  "orig_nbformat": 4
 },
 "nbformat": 4,
 "nbformat_minor": 2
}
